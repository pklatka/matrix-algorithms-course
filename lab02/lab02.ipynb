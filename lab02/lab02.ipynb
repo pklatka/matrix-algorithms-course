{
 "cells": [
  {
   "cell_type": "markdown",
   "metadata": {},
   "source": [
    "# Labolatorium 2"
   ]
  },
  {
   "cell_type": "markdown",
   "metadata": {},
   "source": [
    "### Autorzy:\n",
    "Patryk Klatka \\\n",
    "Wojciech Łoboda"
   ]
  },
  {
   "cell_type": "markdown",
   "metadata": {},
   "source": [
    "## Import bibliotek oraz ich konfiguracja"
   ]
  },
  {
   "cell_type": "code",
   "execution_count": 23,
   "metadata": {},
   "outputs": [],
   "source": [
    "import numpy as np\n",
    "import scipy as sp\n",
    "import matplotlib.pyplot as plt\n",
    "import time\n",
    "\n",
    "# Matplotlib settings\n",
    "%matplotlib inline\n",
    "%config InlineBackend.figure_format = 'retina'\n",
    "plt.style.use('ggplot')"
   ]
  },
  {
   "cell_type": "markdown",
   "metadata": {},
   "source": [
    "## Rekurencyjne odwracanie macierzy"
   ]
  },
  {
   "cell_type": "markdown",
   "metadata": {},
   "source": [
    "OPIS"
   ]
  },
  {
   "cell_type": "code",
   "execution_count": 42,
   "metadata": {},
   "outputs": [],
   "source": [
    "def inverse(A):\n",
    "    \"\"\"\n",
    "    Inverse of a matrix using recursion.\n",
    "    \"\"\"\n",
    "    # Get the shape of the matrix\n",
    "    m, n = A.shape\n",
    "    \n",
    "    # Check if the matrix is square\n",
    "    if m != n:\n",
    "        raise ValueError('Matrix must be square.')\n",
    "    \n",
    "    # Check if the matrix is invertible\n",
    "    if np.linalg.det(A) == 0:\n",
    "        raise ValueError('Matrix is not invertible.')\n",
    "    \n",
    "    # Check if the matrix is 2x2\n",
    "    if m == 2:\n",
    "        # Compute the inverse of the matrix\n",
    "        A_inv = np.zeros_like(A)\n",
    "        A_inv[0, 0] = A[1, 1]\n",
    "        A_inv[0, 1] = -A[0, 1]\n",
    "        A_inv[1, 0] = -A[1, 0]\n",
    "        A_inv[1, 1] = A[0, 0]\n",
    "        A_inv /= np.linalg.det(A)\n",
    "        \n",
    "        return A_inv\n",
    "    \n",
    "    # Otherwise, recursively compute the inverse\n",
    "    else:\n",
    "        # Split the matrix into blocks\n",
    "        A11 = A[:m//2, :m//2]\n",
    "        A12 = A[:m//2, m//2:]\n",
    "        A21 = A[m//2:, :m//2]\n",
    "        A22 = A[m//2:, m//2:]\n",
    "        \n",
    "        # Recursively compute the inverse of the block A11\n",
    "        A11_inv = inverse(A11)\n",
    "        \n",
    "        # Compute the Schur complement\n",
    "        S22 = A22 - A21 @ A11_inv @ A12\n",
    "\n",
    "        # Compute the inverse of the Schur complement\n",
    "        S22_inv = inverse(S22)\n",
    "\n",
    "        # Compute the inverse of the matrix\n",
    "        A_inv = np.zeros_like(A)\n",
    "        A_inv[:m//2, :m//2] = A11_inv + A11_inv @ A12 @ S22_inv @ A21 @ A11_inv\n",
    "        A_inv[:m//2, m//2:] = -A11_inv @ A12 @ S22_inv\n",
    "        A_inv[m//2:, :m//2] = -S22_inv @ A21 @ A11_inv\n",
    "        A_inv[m//2:, m//2:] = S22_inv\n",
    "\n",
    "        return A_inv"
   ]
  },
  {
   "cell_type": "markdown",
   "metadata": {},
   "source": [
    "### Test poprawności algorytmu"
   ]
  },
  {
   "cell_type": "code",
   "execution_count": 43,
   "metadata": {},
   "outputs": [
    {
     "name": "stdout",
     "output_type": "stream",
     "text": [
      "Correct\n",
      "Correct\n"
     ]
    }
   ],
   "source": [
    "test_matrix = np.array([\n",
    "    [5,1,3,4],\n",
    "    [0,1,8,5],\n",
    "    [9,3,6,1],\n",
    "    [7,3,9,2]\n",
    "]).astype(np.float64)\n",
    "\n",
    "m1 = inverse(test_matrix)\n",
    "m2 = np.linalg.inv(test_matrix)\n",
    "print(\"Correct\" if np.allclose(m1, m2) else \"ERROR\")\n",
    "print(\"Correct\" if np.allclose(test_matrix, inverse(inverse(test_matrix))) else \"ERROR\")"
   ]
  },
  {
   "cell_type": "markdown",
   "metadata": {},
   "source": [
    "### Analiza algorytmu"
   ]
  },
  {
   "cell_type": "markdown",
   "metadata": {},
   "source": [
    "#### Czas wykonywania algorytmu"
   ]
  },
  {
   "cell_type": "markdown",
   "metadata": {},
   "source": [
    "#### Liczba operacji zmiennoprzecinkowych"
   ]
  },
  {
   "cell_type": "markdown",
   "metadata": {},
   "source": [
    "#### Eksperymentalne wyznaczenie złożoności obliczeniowej"
   ]
  },
  {
   "cell_type": "markdown",
   "metadata": {},
   "source": [
    "## Rekurencyjna faktoryzacja LU"
   ]
  },
  {
   "cell_type": "markdown",
   "metadata": {},
   "source": [
    "OPIS"
   ]
  },
  {
   "cell_type": "code",
   "execution_count": 74,
   "metadata": {},
   "outputs": [],
   "source": [
    "def LU_factorization_recursive(A):\n",
    "    \"\"\"\n",
    "    LU factorization of a matrix using recursion.\n",
    "    \"\"\"\n",
    "    # Get the shape of the matrix\n",
    "    m, n = A.shape\n",
    "    \n",
    "    # Check if the matrix is square\n",
    "    if m != n:\n",
    "        raise ValueError('Matrix must be square.')\n",
    "    \n",
    "    # Check if the matrix is 2x2\n",
    "    if m == 2:\n",
    "        # Compute the LU decomposition of the matrix\n",
    "        L = np.eye(2)\n",
    "        L[1, 0] = A[1, 0] / A[0, 0]\n",
    "\n",
    "        U = np.zeros_like(A)\n",
    "        U[0, 0] = A[0, 0]\n",
    "        U[0, 1] = A[0, 1]\n",
    "        U[1, 1] = A[1, 1] - L[1, 0] * A[0, 1]\n",
    "\n",
    "        return L, U\n",
    "    else:\n",
    "        # Split the matrix into blocks\n",
    "        A11 = A[:m//2, :m//2]\n",
    "        A12 = A[:m//2, m//2:]\n",
    "        A21 = A[m//2:, :m//2]\n",
    "        A22 = A[m//2:, m//2:]\n",
    "        \n",
    "        # Recursively compute the LU decomposition of the block A11\n",
    "        L11, U11 = LU_factorization_recursive(A11)\n",
    "\n",
    "        U11_inv = inverse(U11)\n",
    "\n",
    "        L21 = A21 @ U11_inv\n",
    "\n",
    "        L11_inv = inverse(L11)\n",
    "\n",
    "        U12 = L11_inv @ A12\n",
    "\n",
    "        S = A22 - A21 @ U11_inv @ L11_inv @ A12\n",
    "\n",
    "        Ls, Us = LU_factorization_recursive(S)\n",
    "\n",
    "        U22 = Us\n",
    "        L22 = Ls\n",
    "\n",
    "        # Compute the LU decomposition of the matrix\n",
    "        L = np.zeros_like(A)\n",
    "        L[:m//2, :m//2] = L11\n",
    "        L[m//2:, :m//2] = L21\n",
    "        L[m//2:, m//2:] = L22\n",
    "\n",
    "        U = np.zeros_like(A)\n",
    "        U[:m//2, :m//2] = U11\n",
    "        U[:m//2, m//2:] = U12\n",
    "        U[m//2:, m//2:] = U22\n",
    "        \n",
    "        return L, U"
   ]
  },
  {
   "cell_type": "markdown",
   "metadata": {},
   "source": [
    "### Test poprawności algorytmu"
   ]
  },
  {
   "cell_type": "code",
   "execution_count": 75,
   "metadata": {},
   "outputs": [
    {
     "name": "stdout",
     "output_type": "stream",
     "text": [
      "Correct\n"
     ]
    }
   ],
   "source": [
    "test_matrix = np.array([\n",
    " [5, 2, 3 ,9],\n",
    " [2 ,4 ,6 ,8],\n",
    " [7, 4, 8 ,4],\n",
    " [3 ,4, 5, 5],\n",
    "\n",
    "]).astype(np.float64)\n",
    "\n",
    "m1 = LU_factorization_recursive(test_matrix)\n",
    "print(\"Correct\" if np.allclose(m1[0] @ m1[1], test_matrix) else \"ERROR\")"
   ]
  },
  {
   "cell_type": "markdown",
   "metadata": {},
   "source": [
    "### Analiza algorytmu"
   ]
  },
  {
   "cell_type": "markdown",
   "metadata": {},
   "source": [
    "#### Czas wykonywania algorytmu"
   ]
  },
  {
   "cell_type": "markdown",
   "metadata": {},
   "source": [
    "#### Liczba operacji zmiennoprzecinkowych"
   ]
  },
  {
   "cell_type": "markdown",
   "metadata": {},
   "source": [
    "#### Eksperymentalne wyznaczenie złożoności obliczeniowej"
   ]
  },
  {
   "cell_type": "markdown",
   "metadata": {},
   "source": [
    "## Rekurencyjne obliczanie wyznacznika"
   ]
  },
  {
   "cell_type": "markdown",
   "metadata": {},
   "source": [
    "OPIS"
   ]
  },
  {
   "cell_type": "code",
   "execution_count": null,
   "metadata": {},
   "outputs": [],
   "source": []
  },
  {
   "cell_type": "markdown",
   "metadata": {},
   "source": [
    "### Test poprawności algorytmu"
   ]
  },
  {
   "cell_type": "code",
   "execution_count": null,
   "metadata": {},
   "outputs": [],
   "source": []
  },
  {
   "cell_type": "markdown",
   "metadata": {},
   "source": [
    "### Analiza algorytmu"
   ]
  },
  {
   "cell_type": "code",
   "execution_count": null,
   "metadata": {},
   "outputs": [],
   "source": []
  },
  {
   "cell_type": "markdown",
   "metadata": {},
   "source": [
    "## Porównanie wyników zaimplementowanych algorytmów do mnożenia macierzy w środowisku MATLAB "
   ]
  },
  {
   "cell_type": "code",
   "execution_count": null,
   "metadata": {},
   "outputs": [],
   "source": []
  },
  {
   "cell_type": "markdown",
   "metadata": {},
   "source": [
    "## Wnioski"
   ]
  },
  {
   "cell_type": "markdown",
   "metadata": {},
   "source": []
  }
 ],
 "metadata": {
  "kernelspec": {
   "display_name": "Python 3",
   "language": "python",
   "name": "python3"
  },
  "language_info": {
   "codemirror_mode": {
    "name": "ipython",
    "version": 3
   },
   "file_extension": ".py",
   "mimetype": "text/x-python",
   "name": "python",
   "nbconvert_exporter": "python",
   "pygments_lexer": "ipython3",
   "version": "3.11.5"
  }
 },
 "nbformat": 4,
 "nbformat_minor": 2
}
